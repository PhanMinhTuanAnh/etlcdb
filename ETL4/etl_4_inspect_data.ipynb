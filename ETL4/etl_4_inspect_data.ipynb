{
 "cells": [
  {
   "cell_type": "code",
   "execution_count": 1,
   "metadata": {},
   "outputs": [],
   "source": [
    "import os\n",
    "import time\n",
    "import math\n",
    "import re\n",
    "import struct\n",
    "import traceback\n",
    "import codecs\n",
    "import bitstring\n",
    "\n",
    "import numpy as np\n",
    "import matplotlib.pyplot as plt\n",
    "import pandas as pd\n",
    "# import cv2\n",
    "\n",
    "from PIL import Image\n",
    "import IPython.display as display"
   ]
  },
  {
   "cell_type": "code",
   "execution_count": 2,
   "metadata": {},
   "outputs": [
    {
     "data": {
      "text/plain": [
       "['.ipynb_checkpoints',\n",
       " 'co59-utf8.txt',\n",
       " 'ETL4C',\n",
       " 'ETL4INFO',\n",
       " 'etl_4_inspect_data.ipynb',\n",
       " 'README.md']"
      ]
     },
     "execution_count": 2,
     "metadata": {},
     "output_type": "execute_result"
    }
   ],
   "source": [
    "os.listdir('.')"
   ]
  },
  {
   "cell_type": "code",
   "execution_count": 3,
   "metadata": {},
   "outputs": [],
   "source": [
    "t56s = '0123456789[#@:>? ABCDEFGHI&.](<  JKLMNOPQR-$*);\\'|/STUVWXYZ ,%=\"!'\n",
    "\n",
    "def T56(c):\n",
    "    return t56s[c]\n",
    "\n",
    "with codecs.open('co59-utf8.txt', 'r', 'utf-8') as co59f:\n",
    "    co59t = co59f.read()\n",
    "    \n",
    "co59l = co59t.split()\n",
    "CO59 = {}\n",
    "for c in co59l:\n",
    "    ch = c.split(':')\n",
    "    co = ch[1].split(',')\n",
    "    CO59[(int(co[0]), int(co[1]))] = ch[0]"
   ]
  },
  {
   "cell_type": "code",
   "execution_count": 4,
   "metadata": {},
   "outputs": [],
   "source": [
    "file_list = [\n",
    "    'ETL4C',\n",
    "]"
   ]
  },
  {
   "cell_type": "code",
   "execution_count": 5,
   "metadata": {},
   "outputs": [],
   "source": [
    "filename = file_list[0]\n",
    "file_stream = bitstring.ConstBitStream(filename=filename)"
   ]
  },
  {
   "cell_type": "code",
   "execution_count": 6,
   "metadata": {},
   "outputs": [],
   "source": [
    "RECORD_LENGTH = 2952\n",
    "skip = 0\n",
    "file_stream.pos = skip * RECORD_LENGTH"
   ]
  },
  {
   "cell_type": "code",
   "execution_count": 7,
   "metadata": {},
   "outputs": [],
   "source": [
    "record = file_stream.readlist(','.join([\n",
    "    '2*uint:36',\n",
    "    'uint:8',\n",
    "    'pad:28',\n",
    "    'uint:8',\n",
    "    'pad:28',\n",
    "    '4*uint:6', # 4 Character Code - [4:8]\n",
    "    'pad:12',\n",
    "    '15*uint:36',\n",
    "    'pad:1008',\n",
    "    'bytes:21888', # 16 Gray Level (4bit/pixel) Image Data 72(X-axis size) * 76(Y-axis size) = 5472 pixels - [23]\n",
    "]))"
   ]
  },
  {
   "cell_type": "code",
   "execution_count": 8,
   "metadata": {},
   "outputs": [
    {
     "name": "stdout",
     "output_type": "stream",
     "text": [
      "<class 'list'> 24\n",
      "0 - 500100\n",
      "1 - 5001\n",
      "2 - 177\n",
      "3 - 129\n",
      "4 - 24\n",
      "5 - 16\n",
      "6 - 16\n",
      "7 - 17\n",
      "8 - 0\n",
      "9 - 0\n",
      "10 - 1\n",
      "11 - 0\n",
      "12 - 1\n",
      "13 - 23\n",
      "14 - 9144\n",
      "15 - 11\n",
      "16 - 741202\n",
      "17 - 741216\n",
      "18 - 72\n",
      "19 - 76\n",
      "20 - 16\n",
      "21 - 133\n",
      "22 - 0\n"
     ]
    }
   ],
   "source": [
    "print(type(record), len(record))\n",
    "for idx, v in enumerate(record[:-1]):\n",
    "    print(f'{idx} - {v}')"
   ]
  },
  {
   "cell_type": "code",
   "execution_count": 9,
   "metadata": {},
   "outputs": [],
   "source": [
    "record_dict = {\n",
    "    'character': ''.join(map(T56, record[4:8])), # 4 Character Code - [4:8]\n",
    "    'image_data': record[23], # 16 Gray Level (4bit/pixel) Image Data 72(X-axis size) * 76(Y-axis size) = 5472 pixels - [23]\n",
    "}"
   ]
  },
  {
   "cell_type": "code",
   "execution_count": 10,
   "metadata": {},
   "outputs": [
    {
     "data": {
      "text/plain": [
       "'H  A'"
      ]
     },
     "execution_count": 10,
     "metadata": {},
     "output_type": "execute_result"
    }
   ],
   "source": [
    "record_dict['character']"
   ]
  },
  {
   "cell_type": "code",
   "execution_count": 11,
   "metadata": {
    "scrolled": true
   },
   "outputs": [
    {
     "data": {
      "text/plain": [
       "<matplotlib.colorbar.Colorbar at 0x26d13c97fd0>"
      ]
     },
     "execution_count": 11,
     "metadata": {},
     "output_type": "execute_result"
    },
    {
     "data": {
      "image/png": "[encoded data removed]",
      "text/plain": [
       "<Figure size 432x288 with 2 Axes>"
      ]
     },
     "metadata": {
      "needs_background": "light"
     },
     "output_type": "display_data"
    }
   ],
   "source": [
    "width = 72\n",
    "height = 76\n",
    "np_img = np.array(Image.frombytes('F', (width, height), record_dict['image_data'], 'bit', 4))\n",
    "\n",
    "plt.imshow(np_img)\n",
    "plt.colorbar()"
   ]
  },
  {
   "cell_type": "code",
   "execution_count": 12,
   "metadata": {},
   "outputs": [],
   "source": [
    "def show_image(filename, pos=0):\n",
    "    f = bitstring.ConstBitStream(filename=filename)\n",
    "    f.bytepos = pos * 2952\n",
    "    r = f.readlist('2*uint:36,uint:8,pad:28,uint:8,pad:28,4*uint:6,pad:12,15*uint:36,pad:1008,bytes:2736')\n",
    "    print(''.join([t56s[c] for c in r[4:8]]))\n",
    "    np_img = np.array(Image.frombytes('F', (r[18], r[19]), r[-1], 'bit', 4))\n",
    "    plt.imshow(np_img)\n",
    "    plt.colorbar()"
   ]
  },
  {
   "cell_type": "code",
   "execution_count": 13,
   "metadata": {},
   "outputs": [],
   "source": [
    "idx = 500"
   ]
  },
  {
   "cell_type": "code",
   "execution_count": 14,
   "metadata": {},
   "outputs": [
    {
     "name": "stdout",
     "output_type": "stream",
     "text": [
      "H RI\n"
     ]
    },
    {
     "data": {
      "image/png": "[encoded data removed]",
      "text/plain": [
       "<Figure size 432x288 with 2 Axes>"
      ]
     },
     "metadata": {
      "needs_background": "light"
     },
     "output_type": "display_data"
    }
   ],
   "source": [
    "show_image(filename, pos=idx)\n",
    "idx += 1"
   ]
  },
  {
   "cell_type": "code",
   "execution_count": 15,
   "metadata": {},
   "outputs": [],
   "source": [
    "total_samples = 0\n",
    "record_count = {}\n",
    "\n",
    "for filename in file_list:\n",
    "    file_stream = bitstring.ConstBitStream(filename=filename)\n",
    "    while True:\n",
    "        try:\n",
    "            r = file_stream.readlist('2*uint:36,uint:8,pad:28,uint:8,pad:28,4*uint:6,pad:12,15*uint:36,pad:1008,bytes:2736')\n",
    "        except:\n",
    "            break\n",
    "            \n",
    "        total_samples += 1\n",
    "        \n",
    "        record_dict = {\n",
    "            'character': ''.join([t56s[c] for c in r[4:8]]), # 4 Character Code - [4:8]\n",
    "            'image_data': r[23], # 16 Gray Level (4bit/pixel) Image Data 72(X-axis size) * 76(Y-axis size) = 5472 pixels - [23]\n",
    "        }\n",
    "\n",
    "        name = record_dict['character']\n",
    "\n",
    "        if name in record_count.keys():\n",
    "            record_count[name] += 1\n",
    "        else:\n",
    "            record_count[name] = 1"
   ]
  },
  {
   "cell_type": "code",
   "execution_count": 16,
   "metadata": {},
   "outputs": [
    {
     "data": {
      "text/plain": [
       "6120"
      ]
     },
     "execution_count": 16,
     "metadata": {},
     "output_type": "execute_result"
    }
   ],
   "source": [
    "total_samples"
   ]
  },
  {
   "cell_type": "code",
   "execution_count": 17,
   "metadata": {},
   "outputs": [
    {
     "data": {
      "text/plain": [
       "51"
      ]
     },
     "execution_count": 17,
     "metadata": {},
     "output_type": "execute_result"
    }
   ],
   "source": [
    "len(record_count.keys())"
   ]
  },
  {
   "cell_type": "code",
   "execution_count": 18,
   "metadata": {
    "scrolled": true
   },
   "outputs": [
    {
     "data": {
      "text/plain": [
       "{'H  A': 120,\n",
       " 'H  I': 120,\n",
       " 'H  U': 120,\n",
       " 'H  E': 120,\n",
       " 'H  O': 120,\n",
       " 'H KA': 120,\n",
       " 'H KI': 120,\n",
       " 'H KU': 120,\n",
       " 'H KE': 120,\n",
       " 'H KO': 120,\n",
       " 'H SA': 120,\n",
       " 'H SI': 120,\n",
       " 'H SU': 120,\n",
       " 'H SE': 120,\n",
       " 'H SO': 120,\n",
       " 'H TA': 120,\n",
       " 'H TI': 120,\n",
       " 'H TU': 120,\n",
       " 'H TE': 120,\n",
       " 'H TO': 120,\n",
       " 'H NA': 120,\n",
       " 'H NI': 120,\n",
       " 'H NU': 120,\n",
       " 'H NE': 120,\n",
       " 'H NO': 120,\n",
       " 'H HA': 120,\n",
       " 'H HI': 120,\n",
       " 'H HU': 120,\n",
       " 'H HE': 120,\n",
       " 'H HO': 120,\n",
       " 'H MA': 120,\n",
       " 'H MI': 120,\n",
       " 'H MU': 120,\n",
       " 'H ME': 120,\n",
       " 'H MO': 120,\n",
       " 'H YA': 120,\n",
       " 'H YI': 120,\n",
       " 'H YU': 120,\n",
       " 'H YE': 120,\n",
       " 'H YO': 120,\n",
       " 'H RA': 120,\n",
       " 'H RI': 120,\n",
       " 'H RU': 120,\n",
       " 'H RE': 120,\n",
       " 'H RO': 120,\n",
       " 'H WA': 120,\n",
       " 'H WI': 120,\n",
       " 'H WU': 120,\n",
       " 'H WE': 120,\n",
       " 'H WO': 120,\n",
       " 'H  N': 120}"
      ]
     },
     "execution_count": 18,
     "metadata": {},
     "output_type": "execute_result"
    }
   ],
   "source": [
    "record_count"
   ]
  },
  {
   "cell_type": "code",
   "execution_count": 19,
   "metadata": {},
   "outputs": [],
   "source": [
    "csv_filename = 'classes.tsv'\n",
    "with open(csv_filename, mode='w', encoding='utf-8') as f:\n",
    "    f.write('class\\tnum_samples\\n')\n",
    "    for k in record_count.keys():\n",
    "        log_str = f'{k}\\t{record_count[k]}\\n'\n",
    "        f.write(log_str)\n",
    "pd_df = pd.read_csv(csv_filename, encoding='utf-8', sep='\\t')\n",
    "pd_df = pd_df.sort_values(['class'])\n",
    "pd_df.to_csv(csv_filename, encoding='utf-8', index=False, sep='\\t')"
   ]
  }
 ],
 "metadata": {
  "kernelspec": {
   "display_name": "Python 3",
   "language": "python",
   "name": "python3"
  },
  "language_info": {
   "codemirror_mode": {
    "name": "ipython",
    "version": 3
   },
   "file_extension": ".py",
   "mimetype": "text/x-python",
   "name": "python",
   "nbconvert_exporter": "python",
   "pygments_lexer": "ipython3",
   "version": "3.7.3"
  }
 },
 "nbformat": 4,
 "nbformat_minor": 2
}
