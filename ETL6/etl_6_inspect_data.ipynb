{
 "cells": [
  {
   "cell_type": "code",
   "execution_count": 1,
   "metadata": {},
   "outputs": [],
   "source": [
    "import os\n",
    "import time\n",
    "import math\n",
    "import re\n",
    "import struct\n",
    "import traceback\n",
    "\n",
    "import numpy as np\n",
    "import matplotlib.pyplot as plt\n",
    "import cv2\n",
    "\n",
    "from PIL import Image\n",
    "import IPython.display as display"
   ]
  },
  {
   "cell_type": "code",
   "execution_count": 2,
   "metadata": {},
   "outputs": [
    {
     "data": {
      "text/plain": [
       "['.ipynb_checkpoints',\n",
       " 'ETL6C_01',\n",
       " 'ETL6C_02',\n",
       " 'ETL6C_03',\n",
       " 'ETL6C_04',\n",
       " 'ETL6C_05',\n",
       " 'ETL6C_06',\n",
       " 'ETL6C_07',\n",
       " 'ETL6C_08',\n",
       " 'ETL6C_09',\n",
       " 'ETL6C_10',\n",
       " 'ETL6C_11',\n",
       " 'ETL6C_12',\n",
       " 'ETL6INFO',\n",
       " 'etl_6_inspect_data.ipynb']"
      ]
     },
     "execution_count": 2,
     "metadata": {},
     "output_type": "execute_result"
    }
   ],
   "source": [
    "os.listdir('.')"
   ]
  },
  {
   "cell_type": "code",
   "execution_count": 3,
   "metadata": {},
   "outputs": [],
   "source": [
    "file_list = [\n",
    "    'ETL6C_01',\n",
    "    'ETL6C_02',\n",
    "    'ETL6C_03',\n",
    "    'ETL6C_04',\n",
    "    'ETL6C_05',\n",
    "    'ETL6C_06',\n",
    "    'ETL6C_07',\n",
    "    'ETL6C_08',\n",
    "    'ETL6C_09',\n",
    "    'ETL6C_10',\n",
    "    'ETL6C_11',\n",
    "    'ETL6C_12',\n",
    "]"
   ]
  },
  {
   "cell_type": "code",
   "execution_count": 4,
   "metadata": {},
   "outputs": [
    {
     "data": {
      "text/plain": [
       "'ETL6C_01'"
      ]
     },
     "execution_count": 4,
     "metadata": {},
     "output_type": "execute_result"
    }
   ],
   "source": [
    "filename = file_list[0]\n",
    "filename"
   ]
  },
  {
   "cell_type": "code",
   "execution_count": 5,
   "metadata": {},
   "outputs": [],
   "source": [
    "RECORD_LENGTH = 2052 # bytes"
   ]
  },
  {
   "cell_type": "code",
   "execution_count": 6,
   "metadata": {},
   "outputs": [],
   "source": [
    "with open(filename, 'rb') as data_file:\n",
    "    record_string = data_file.read(RECORD_LENGTH)"
   ]
  },
  {
   "cell_type": "code",
   "execution_count": 7,
   "metadata": {},
   "outputs": [
    {
     "name": "stdout",
     "output_type": "stream",
     "text": [
      "<class 'bytes'> 2052\n"
     ]
    }
   ],
   "source": [
    "print(type(record_string), len(record_string))"
   ]
  },
  {
   "cell_type": "code",
   "execution_count": 8,
   "metadata": {},
   "outputs": [],
   "source": [
    "UNPACK_STRING = '>H2sH6BI4H4B4x2016s4x'"
   ]
  },
  {
   "cell_type": "code",
   "execution_count": 9,
   "metadata": {},
   "outputs": [
    {
     "name": "stdout",
     "output_type": "stream",
     "text": [
      "<class 'tuple'> 19\n"
     ]
    }
   ],
   "source": [
    "record = struct.unpack(UNPACK_STRING, record_string)\n",
    "print(type(record), len(record))"
   ]
  },
  {
   "cell_type": "code",
   "execution_count": 10,
   "metadata": {},
   "outputs": [],
   "source": [
    "record_dict = {\n",
    "    'index': record[0], # type: int\n",
    "    'character_name': record[1], # type: bytes - ascii encoding (e.g. A, KA, 0, $)\n",
    "    'sheet_index': record[2], # type: int\n",
    "    'JIS_X_0201_CODE': record[3], # type: binary - https://en.wikipedia.org/wiki/JIS_X_0201\n",
    "    'EBCDIC_CODE': record[4], # type: binary - https://en.wikipedia.org/wiki/EBCDIC\n",
    "    'image_quality': record[5], # type: int - [0, 1, 2, 3] with 0 is clean\n",
    "    'group_quality': record[6], # type: int - [0, 1, 2] with 0 is clean\n",
    "    'writer_gender': record[7], # type: int - 1 is male, 2 is female. JIS X 0303 encoding?\n",
    "    'writer_age': record[8], # type: int - \n",
    "    'serial_data_index': record[9], # type: int\n",
    "    'industry_classification_code': record[10], # type: int - JIS X 0403\n",
    "    'occupation_classification_code': record[11], # type: int - JIS X 0404\n",
    "    'data_of_sheet_gathering': record[12], # type: int - data of sheet gathering (19)YYMM\n",
    "    'date_of_scan': record[13], # type: int - date of scan (19)YYMM\n",
    "    'x_pos': record[14], # type: int - x coordinate of scan position on sheet (>= 1)\n",
    "    'y_pos': record[15], # type: int - y coordinate of scan position on sheet (>= 1)\n",
    "    'minimum_intensity_level': record[16], # type: int - value in range (0-255)\n",
    "    'maximum_scanned_level': record[17], # type: int - value in range (0-255)\n",
    "    'image_data': record[18], # type: bytes\n",
    "}"
   ]
  },
  {
   "cell_type": "code",
   "execution_count": 11,
   "metadata": {},
   "outputs": [
    {
     "name": "stdout",
     "output_type": "stream",
     "text": [
      "index <class 'int'>\n",
      "character_name <class 'bytes'>\n",
      "sheet_index <class 'int'>\n",
      "JIS_X_0201_CODE <class 'int'>\n",
      "EBCDIC_CODE <class 'int'>\n",
      "image_quality <class 'int'>\n",
      "group_quality <class 'int'>\n",
      "writer_gender <class 'int'>\n",
      "writer_age <class 'int'>\n",
      "serial_data_index <class 'int'>\n",
      "industry_classification_code <class 'int'>\n",
      "occupation_classification_code <class 'int'>\n",
      "data_of_sheet_gathering <class 'int'>\n",
      "date_of_scan <class 'int'>\n",
      "x_pos <class 'int'>\n",
      "y_pos <class 'int'>\n",
      "minimum_intensity_level <class 'int'>\n",
      "maximum_scanned_level <class 'int'>\n",
      "image_data <class 'bytes'>\n"
     ]
    }
   ],
   "source": [
    "for key in record_dict.keys():\n",
    "    print(key, type(record_dict[key]))"
   ]
  },
  {
   "cell_type": "code",
   "execution_count": 12,
   "metadata": {},
   "outputs": [
    {
     "data": {
      "text/plain": [
       "b' A'"
      ]
     },
     "execution_count": 12,
     "metadata": {},
     "output_type": "execute_result"
    }
   ],
   "source": [
    "record_dict['character_name']"
   ]
  },
  {
   "cell_type": "code",
   "execution_count": 13,
   "metadata": {},
   "outputs": [
    {
     "data": {
      "text/plain": [
       "'A'"
      ]
     },
     "execution_count": 13,
     "metadata": {},
     "output_type": "execute_result"
    }
   ],
   "source": [
    "record_dict['character_name'].decode('ascii').strip()"
   ]
  },
  {
   "cell_type": "code",
   "execution_count": 14,
   "metadata": {},
   "outputs": [],
   "source": [
    "width = 64\n",
    "height = 63\n",
    "img = Image.frombytes('F', (width, height), record_dict['image_data'], 'bit', 4)"
   ]
  },
  {
   "cell_type": "code",
   "execution_count": 15,
   "metadata": {},
   "outputs": [
    {
     "data": {
      "text/plain": [
       "PIL.Image.Image"
      ]
     },
     "execution_count": 15,
     "metadata": {},
     "output_type": "execute_result"
    }
   ],
   "source": [
    "type(img)"
   ]
  },
  {
   "cell_type": "code",
   "execution_count": 16,
   "metadata": {},
   "outputs": [
    {
     "data": {
      "text/plain": [
       "(63, 64)"
      ]
     },
     "execution_count": 16,
     "metadata": {},
     "output_type": "execute_result"
    }
   ],
   "source": [
    "np_img = np.array(img)\n",
    "np_img.shape"
   ]
  },
  {
   "cell_type": "code",
   "execution_count": 17,
   "metadata": {},
   "outputs": [
    {
     "data": {
      "text/plain": [
       "<matplotlib.colorbar.Colorbar at 0x15493a1d780>"
      ]
     },
     "execution_count": 17,
     "metadata": {},
     "output_type": "execute_result"
    },
    {
     "data": {
      "image/png": "[encoded data removed]",
      "text/plain": [
       "<Figure size 432x288 with 2 Axes>"
      ]
     },
     "metadata": {
      "needs_background": "light"
     },
     "output_type": "display_data"
    }
   ],
   "source": [
    "plt.imshow(np_img)\n",
    "plt.colorbar()"
   ]
  },
  {
   "cell_type": "code",
   "execution_count": 18,
   "metadata": {},
   "outputs": [],
   "source": [
    "record_count = {}\n",
    "total_samples = 0\n",
    "RECORD_LENGTH = 2052 # bytes\n",
    "UNPACK_STRING = '>H2sH6BI4H4B4x2016s4x'\n",
    "\n",
    "for filename in file_list:\n",
    "    f = open(filename, 'rb')\n",
    "\n",
    "    while True:\n",
    "        record_string = f.read(RECORD_LENGTH)\n",
    "\n",
    "        if len(record_string) < RECORD_LENGTH:\n",
    "            # print(len(record_string))\n",
    "            break\n",
    "        total_samples += 1\n",
    "        record = struct.unpack(UNPACK_STRING, record_string)\n",
    "\n",
    "        record_dict = {\n",
    "            'index': record[0], # type: int\n",
    "            'character_name': record[1], # type: bytes - ascii encoding (e.g. A, KA, 0, $)\n",
    "            'sheet_index': record[2], # type: int\n",
    "            'JIS_X_0201_CODE': record[3], # type: binary - https://en.wikipedia.org/wiki/JIS_X_0201\n",
    "            'EBCDIC_CODE': record[4], # type: binary - https://en.wikipedia.org/wiki/EBCDIC\n",
    "            'image_quality': record[5], # type: int - [0, 1, 2, 3] with 0 is clean\n",
    "            'group_quality': record[6], # type: int - [0, 1, 2] with 0 is clean\n",
    "            'writer_gender': record[7], # type: int - 1 is male, 2 is female. JIS X 0303 encoding?\n",
    "            'writer_age': record[8], # type: int - \n",
    "            'serial_data_index': record[9], # type: int\n",
    "            'industry_classification_code': record[10], # type: int - JIS X 0403\n",
    "            'occupation_classification_code': record[11], # type: int - JIS X 0404\n",
    "            'data_of_sheet_gathering': record[12], # type: int - data of sheet gathering (19)YYMM\n",
    "            'date_of_scan': record[13], # type: int - date of scan (19)YYMM\n",
    "            'x_pos': record[14], # type: int - x coordinate of scan position on sheet (>= 1)\n",
    "            'y_pos': record[15], # type: int - y coordinate of scan position on sheet (>= 1)\n",
    "            'minimum_intensity_level': record[16], # type: int - value in range (0-255)\n",
    "            'maximum_scanned_level': record[17], # type: int - value in range (0-255)\n",
    "            'image_data': record[18], # type: bytes\n",
    "        }\n",
    "\n",
    "        name = record_dict['character_name'].decode('ascii').strip()\n",
    "\n",
    "        if name in record_count.keys():\n",
    "            record_count[name] += 1\n",
    "        else:\n",
    "            record_count[name] = 1\n",
    "\n",
    "    f.close()"
   ]
  },
  {
   "cell_type": "code",
   "execution_count": 19,
   "metadata": {},
   "outputs": [
    {
     "data": {
      "text/plain": [
       "159045"
      ]
     },
     "execution_count": 19,
     "metadata": {},
     "output_type": "execute_result"
    }
   ],
   "source": [
    "total_samples"
   ]
  },
  {
   "cell_type": "code",
   "execution_count": 20,
   "metadata": {},
   "outputs": [
    {
     "data": {
      "text/plain": [
       "108"
      ]
     },
     "execution_count": 20,
     "metadata": {},
     "output_type": "execute_result"
    }
   ],
   "source": [
    "len(record_count.keys())"
   ]
  },
  {
   "cell_type": "code",
   "execution_count": 21,
   "metadata": {
    "scrolled": false
   },
   "outputs": [
    {
     "data": {
      "text/plain": [
       "{'A': 2766,\n",
       " 'I': 2766,\n",
       " 'U': 2766,\n",
       " 'E': 2766,\n",
       " 'O': 2766,\n",
       " 'KA': 1383,\n",
       " 'KI': 1383,\n",
       " 'KU': 1383,\n",
       " 'KE': 1383,\n",
       " 'KO': 1383,\n",
       " 'SA': 1383,\n",
       " 'SI': 1383,\n",
       " 'SU': 1383,\n",
       " 'SE': 1383,\n",
       " 'SO': 1383,\n",
       " 'TA': 1383,\n",
       " 'TI': 1383,\n",
       " 'TU': 1383,\n",
       " 'TE': 1383,\n",
       " 'TO': 1383,\n",
       " 'NA': 1383,\n",
       " 'NI': 1383,\n",
       " 'NU': 1383,\n",
       " 'NE': 1383,\n",
       " 'NO': 1383,\n",
       " 'HA': 1383,\n",
       " 'HI': 1383,\n",
       " 'HU': 1383,\n",
       " 'HE': 1383,\n",
       " 'HO': 1383,\n",
       " 'MA': 1383,\n",
       " 'MI': 1383,\n",
       " 'MU': 1383,\n",
       " 'ME': 1383,\n",
       " 'MO': 1383,\n",
       " 'YA': 1383,\n",
       " 'YU': 1383,\n",
       " 'YO': 1383,\n",
       " 'RA': 1383,\n",
       " 'RI': 1383,\n",
       " 'RU': 1383,\n",
       " 'RE': 1383,\n",
       " 'RO': 1383,\n",
       " 'WA': 1383,\n",
       " 'WO': 1383,\n",
       " 'N': 2766,\n",
       " ',,': 1383,\n",
       " ',0': 1383,\n",
       " '(K': 1383,\n",
       " ')K': 1383,\n",
       " '0': 1383,\n",
       " '1': 1383,\n",
       " '2': 1383,\n",
       " '3': 1383,\n",
       " '4': 1383,\n",
       " '5': 1383,\n",
       " '6': 1383,\n",
       " '7': 1383,\n",
       " '8': 1383,\n",
       " '9': 1383,\n",
       " '+': 1383,\n",
       " '-': 1383,\n",
       " 'B': 1383,\n",
       " 'C': 1383,\n",
       " 'D': 1383,\n",
       " 'F': 1383,\n",
       " 'G': 1383,\n",
       " 'H': 1383,\n",
       " 'J': 1383,\n",
       " 'K': 1383,\n",
       " 'L': 1383,\n",
       " 'M': 1383,\n",
       " 'P': 1383,\n",
       " 'Q': 1383,\n",
       " 'R': 1383,\n",
       " 'S': 1383,\n",
       " 'T': 1383,\n",
       " 'V': 1383,\n",
       " 'W': 1383,\n",
       " 'X': 1383,\n",
       " 'Y': 1383,\n",
       " 'Z': 1383,\n",
       " '=': 1383,\n",
       " '*': 1383,\n",
       " '=(': 1383,\n",
       " '=)': 1383,\n",
       " '(': 1383,\n",
       " ')': 1383,\n",
       " '((': 1383,\n",
       " '))': 1383,\n",
       " '.': 1383,\n",
       " ',': 1383,\n",
       " '..': 1383,\n",
       " '.,': 1383,\n",
       " \"'\": 1383,\n",
       " \"''\": 1383,\n",
       " '.7': 1383,\n",
       " '$Y': 1383,\n",
       " '$S': 1383,\n",
       " '/0': 1383,\n",
       " '#': 1383,\n",
       " '@': 1383,\n",
       " '-6': 1383,\n",
       " '++': 1383,\n",
       " '=X': 1383,\n",
       " '+1': 2766,\n",
       " '/X': 1383,\n",
       " '/': 1383}"
      ]
     },
     "execution_count": 21,
     "metadata": {},
     "output_type": "execute_result"
    }
   ],
   "source": [
    "record_count"
   ]
  }
 ],
 "metadata": {
  "kernelspec": {
   "display_name": "Python 3",
   "language": "python",
   "name": "python3"
  },
  "language_info": {
   "codemirror_mode": {
    "name": "ipython",
    "version": 3
   },
   "file_extension": ".py",
   "mimetype": "text/x-python",
   "name": "python",
   "nbconvert_exporter": "python",
   "pygments_lexer": "ipython3",
   "version": "3.7.1"
  }
 },
 "nbformat": 4,
 "nbformat_minor": 2
}
