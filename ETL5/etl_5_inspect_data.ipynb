{
 "cells": [
  {
   "cell_type": "code",
   "execution_count": 1,
   "metadata": {},
   "outputs": [],
   "source": [
    "import os\n",
    "import time\n",
    "import math\n",
    "import re\n",
    "import struct\n",
    "import traceback\n",
    "import codecs\n",
    "import bitstring\n",
    "\n",
    "import numpy as np\n",
    "import matplotlib.pyplot as plt\n",
    "import cv2\n",
    "\n",
    "from PIL import Image\n",
    "import IPython.display as display"
   ]
  },
  {
   "cell_type": "code",
   "execution_count": 2,
   "metadata": {},
   "outputs": [
    {
     "data": {
      "text/plain": [
       "['.ipynb_checkpoints',\n",
       " 'co59-utf8.txt',\n",
       " 'ETL5C',\n",
       " 'ETL5INFO',\n",
       " 'etl_5_inspect_data.ipynb']"
      ]
     },
     "execution_count": 2,
     "metadata": {},
     "output_type": "execute_result"
    }
   ],
   "source": [
    "os.listdir('.')"
   ]
  },
  {
   "cell_type": "code",
   "execution_count": 3,
   "metadata": {},
   "outputs": [],
   "source": [
    "t56s = '0123456789[#@:>? ABCDEFGHI&.](<  JKLMNOPQR-$*);\\'|/STUVWXYZ ,%=\"!'\n",
    "\n",
    "def T56(c):\n",
    "    return t56s[c]\n",
    "\n",
    "with codecs.open('co59-utf8.txt', 'r', 'utf-8') as co59f:\n",
    "    co59t = co59f.read()\n",
    "    \n",
    "co59l = co59t.split()\n",
    "CO59 = {}\n",
    "for c in co59l:\n",
    "    ch = c.split(':')\n",
    "    co = ch[1].split(',')\n",
    "    CO59[(int(co[0]), int(co[1]))] = ch[0]"
   ]
  },
  {
   "cell_type": "code",
   "execution_count": 4,
   "metadata": {},
   "outputs": [],
   "source": [
    "file_list = [\n",
    "    'ETL5C',\n",
    "]"
   ]
  },
  {
   "cell_type": "code",
   "execution_count": 5,
   "metadata": {},
   "outputs": [],
   "source": [
    "filename = file_list[0]\n",
    "file_stream = bitstring.ConstBitStream(filename=filename)"
   ]
  },
  {
   "cell_type": "code",
   "execution_count": 6,
   "metadata": {},
   "outputs": [],
   "source": [
    "RECORD_LENGTH = 2952\n",
    "skip = 0\n",
    "file_stream.bytepos = skip * RECORD_LENGTH"
   ]
  },
  {
   "cell_type": "code",
   "execution_count": 7,
   "metadata": {},
   "outputs": [],
   "source": [
    "record = file_stream.readlist(','.join([\n",
    "    '2*uint:36',\n",
    "    'uint:8',\n",
    "    'pad:28',\n",
    "    'uint:8',\n",
    "    'pad:28',\n",
    "    '4*uint:6', # 4 Character Code - [4:8]\n",
    "    'pad:12',\n",
    "    '15*uint:36',\n",
    "    'pad:1008',\n",
    "    'bytes:2736', # 16 Gray Level (4bit/pixel) Image Data 72(X-axis size) * 76(Y-axis size) = 5472 pixels - [23]\n",
    "]))"
   ]
  },
  {
   "cell_type": "code",
   "execution_count": 8,
   "metadata": {},
   "outputs": [
    {
     "name": "stdout",
     "output_type": "stream",
     "text": [
      "<class 'list'>\n",
      "24\n",
      "0 - 1\n",
      "1 - 6001\n",
      "2 - 177\n",
      "3 - 129\n",
      "4 - 34\n",
      "5 - 16\n",
      "6 - 16\n",
      "7 - 17\n",
      "8 - 0\n",
      "9 - 0\n",
      "10 - 1\n",
      "11 - 0\n",
      "12 - 1\n",
      "13 - 26\n",
      "14 - 3552\n",
      "15 - 42\n",
      "16 - 750215\n",
      "17 - 750217\n",
      "18 - 72\n",
      "19 - 76\n",
      "20 - 16\n",
      "21 - 100\n",
      "22 - 0\n"
     ]
    }
   ],
   "source": [
    "print(type(record))\n",
    "print(len(record))\n",
    "for idx, v in enumerate(record[:-1]):\n",
    "    print(f'{idx} - {v}')"
   ]
  },
  {
   "cell_type": "code",
   "execution_count": 9,
   "metadata": {},
   "outputs": [],
   "source": [
    "record_dict = {\n",
    "    'character': ''.join(map(T56, record[4:8])), # 4 Character Code - [4:8]\n",
    "    'image_data': record[23], # 16 Gray Level (4bit/pixel) Image Data 72(X-axis size) * 76(Y-axis size) = 5472 pixels - [23]\n",
    "}"
   ]
  },
  {
   "cell_type": "code",
   "execution_count": 10,
   "metadata": {},
   "outputs": [
    {
     "data": {
      "text/plain": [
       "'K  A'"
      ]
     },
     "execution_count": 10,
     "metadata": {},
     "output_type": "execute_result"
    }
   ],
   "source": [
    "record_dict['character']"
   ]
  },
  {
   "cell_type": "code",
   "execution_count": 11,
   "metadata": {
    "scrolled": true
   },
   "outputs": [
    {
     "data": {
      "text/plain": [
       "<matplotlib.colorbar.Colorbar at 0x2a832f90550>"
      ]
     },
     "execution_count": 11,
     "metadata": {},
     "output_type": "execute_result"
    },
    {
     "data": {
      "image/png": "[encoded data removed]",
      "text/plain": [
       "<Figure size 432x288 with 2 Axes>"
      ]
     },
     "metadata": {
      "needs_background": "light"
     },
     "output_type": "display_data"
    }
   ],
   "source": [
    "width = 72\n",
    "height = 76\n",
    "np_img = np.array(Image.frombytes('F', (width, height), record_dict['image_data'], 'bit', 4))\n",
    "\n",
    "plt.imshow(np_img)\n",
    "plt.colorbar()"
   ]
  },
  {
   "cell_type": "code",
   "execution_count": 12,
   "metadata": {},
   "outputs": [],
   "source": [
    "def show_image(filename, pos=0):\n",
    "    f = bitstring.ConstBitStream(filename=filename)\n",
    "    f.bytepos = pos * 2952\n",
    "    r = f.readlist('2*uint:36,uint:8,pad:28,uint:8,pad:28,4*uint:6,pad:12,15*uint:36,pad:1008,bytes:2736')\n",
    "    print(''.join([t56s[c] for c in r[4:8]]))\n",
    "    np_img = np.array(Image.frombytes('F', (r[18], r[19]), r[-1], 'bit', 4))\n",
    "    plt.imshow(np_img)\n",
    "    plt.colorbar()"
   ]
  },
  {
   "cell_type": "code",
   "execution_count": 13,
   "metadata": {},
   "outputs": [],
   "source": [
    "idx = 500"
   ]
  },
  {
   "cell_type": "code",
   "execution_count": 14,
   "metadata": {},
   "outputs": [
    {
     "name": "stdout",
     "output_type": "stream",
     "text": [
      "K  U\n"
     ]
    },
    {
     "data": {
      "image/png": "[encoded data removed]",
      "text/plain": [
       "<Figure size 432x288 with 2 Axes>"
      ]
     },
     "metadata": {
      "needs_background": "light"
     },
     "output_type": "display_data"
    }
   ],
   "source": [
    "show_image(filename, pos=idx)\n",
    "idx += 1"
   ]
  },
  {
   "cell_type": "code",
   "execution_count": 15,
   "metadata": {},
   "outputs": [],
   "source": [
    "total_samples = 0\n",
    "record_count = {}\n",
    "\n",
    "for filename in file_list:\n",
    "    file_stream = bitstring.ConstBitStream(filename=filename)\n",
    "    pos = 0\n",
    "    while True:\n",
    "        try:\n",
    "            file_stream.bytepos = pos * 2952\n",
    "            r = file_stream.readlist('2*uint:36,uint:8,pad:28,uint:8,pad:28,4*uint:6,pad:12,15*uint:36,pad:1008,bytes:2736')\n",
    "        except:\n",
    "            break\n",
    "        pos += 1\n",
    "        total_samples += 1\n",
    "        record_dict = {\n",
    "            'character': ''.join([t56s[c] for c in r[4:8]]), # 4 Character Code - [4:8]\n",
    "            'image_data': r[23], # 16 Gray Level (4bit/pixel) Image Data 72(X-axis size) * 76(Y-axis size) = 5472 pixels - [23]\n",
    "        }\n",
    "\n",
    "        name = record_dict['character']\n",
    "\n",
    "        if name in record_count.keys():\n",
    "            record_count[name] += 1\n",
    "        else:\n",
    "            record_count[name] = 1"
   ]
  },
  {
   "cell_type": "code",
   "execution_count": 16,
   "metadata": {},
   "outputs": [
    {
     "data": {
      "text/plain": [
       "10608"
      ]
     },
     "execution_count": 16,
     "metadata": {},
     "output_type": "execute_result"
    }
   ],
   "source": [
    "total_samples"
   ]
  },
  {
   "cell_type": "code",
   "execution_count": 17,
   "metadata": {},
   "outputs": [
    {
     "data": {
      "text/plain": [
       "51"
      ]
     },
     "execution_count": 17,
     "metadata": {},
     "output_type": "execute_result"
    }
   ],
   "source": [
    "len(record_count.keys())"
   ]
  },
  {
   "cell_type": "code",
   "execution_count": 18,
   "metadata": {
    "scrolled": false
   },
   "outputs": [
    {
     "data": {
      "text/plain": [
       "{'K  A': 208,\n",
       " 'K  I': 208,\n",
       " 'K  U': 208,\n",
       " 'K  E': 208,\n",
       " 'K  O': 208,\n",
       " 'K KA': 208,\n",
       " 'K KI': 208,\n",
       " 'K KU': 208,\n",
       " 'K KE': 208,\n",
       " 'K KO': 208,\n",
       " 'K SA': 208,\n",
       " 'K SI': 208,\n",
       " 'K SU': 208,\n",
       " 'K SE': 208,\n",
       " 'K SO': 208,\n",
       " 'K TA': 208,\n",
       " 'K TI': 208,\n",
       " 'K TU': 208,\n",
       " 'K TE': 208,\n",
       " 'K TO': 208,\n",
       " 'K NA': 208,\n",
       " 'K NI': 208,\n",
       " 'K NU': 208,\n",
       " 'K NE': 208,\n",
       " 'K NO': 208,\n",
       " 'K HA': 208,\n",
       " 'K HI': 208,\n",
       " 'K HU': 208,\n",
       " 'K HE': 208,\n",
       " 'K HO': 208,\n",
       " 'K MA': 208,\n",
       " 'K MI': 208,\n",
       " 'K MU': 208,\n",
       " 'K ME': 208,\n",
       " 'K MO': 208,\n",
       " 'K YA': 208,\n",
       " 'K YI': 208,\n",
       " 'K YU': 208,\n",
       " 'K YE': 208,\n",
       " 'K YO': 208,\n",
       " 'K RA': 208,\n",
       " 'K RI': 208,\n",
       " 'K RU': 208,\n",
       " 'K RE': 208,\n",
       " 'K RO': 208,\n",
       " 'K WA': 208,\n",
       " 'K WI': 208,\n",
       " 'K WU': 208,\n",
       " 'K WE': 208,\n",
       " 'K WO': 208,\n",
       " 'K  N': 208}"
      ]
     },
     "execution_count": 18,
     "metadata": {},
     "output_type": "execute_result"
    }
   ],
   "source": [
    "record_count"
   ]
  }
 ],
 "metadata": {
  "kernelspec": {
   "display_name": "Python 3",
   "language": "python",
   "name": "python3"
  },
  "language_info": {
   "codemirror_mode": {
    "name": "ipython",
    "version": 3
   },
   "file_extension": ".py",
   "mimetype": "text/x-python",
   "name": "python",
   "nbconvert_exporter": "python",
   "pygments_lexer": "ipython3",
   "version": "3.7.1"
  }
 },
 "nbformat": 4,
 "nbformat_minor": 2
}
