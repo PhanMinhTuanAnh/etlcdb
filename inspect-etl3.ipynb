{
 "cells": [
  {
   "cell_type": "code",
   "execution_count": null,
   "metadata": {},
   "outputs": [],
   "source": [
    "import os\n",
    "import time\n",
    "import math\n",
    "import re\n",
    "import struct\n",
    "import traceback\n",
    "import codecs\n",
    "import bitstring\n",
    "\n",
    "import numpy as np\n",
    "import pandas as pd\n",
    "import matplotlib.pyplot as plt\n",
    "# import cv2\n",
    "\n",
    "from PIL import Image\n",
    "import IPython.display as display"
   ]
  },
  {
   "cell_type": "markdown",
   "metadata": {},
   "source": [
    "```\n",
    ".\n",
    "├── ETL3\n",
    "│   ├── ETL3C_1\n",
    "│   ├── ETL3C_2\n",
    "│   └── ETL3INFO\n",
    "├── README.md\n",
    "├── classes.tsv\n",
    "├── co59-utf8.txt\n",
    "└── note.ipynb\n",
    "```"
   ]
  },
  {
   "cell_type": "code",
   "execution_count": null,
   "metadata": {},
   "outputs": [],
   "source": [
    "dataset_part_filepaths = [\n",
    "    'ETL3/ETL3C_1',\n",
    "    'ETL3/ETL3C_2',\n",
    "]\n",
    "\n",
    "for part_filepath in dataset_part_filepaths:\n",
    "    print(os.path.exists(part_filepath), part_filepath)"
   ]
  },
  {
   "cell_type": "code",
   "execution_count": null,
   "metadata": {},
   "outputs": [],
   "source": [
    "t56s = '0123456789[#@:>? ABCDEFGHI&.](<  JKLMNOPQR-$*);\\'|/STUVWXYZ ,%=\"!'\n",
    "\n",
    "def T56(c):\n",
    "    return t56s[c]\n",
    "\n",
    "with codecs.open('co59-utf8.txt', 'r', 'utf-8') as co59f:\n",
    "    co59t = co59f.read()\n",
    "    \n",
    "co59l = co59t.split()\n",
    "CO59 = {}\n",
    "for c in co59l:\n",
    "    ch = c.split(':')\n",
    "    co = ch[1].split(',')\n",
    "    CO59[(int(co[0]), int(co[1]))] = ch[0]"
   ]
  },
  {
   "cell_type": "code",
   "execution_count": null,
   "metadata": {},
   "outputs": [],
   "source": [
    "len(CO59.keys())"
   ]
  },
  {
   "cell_type": "code",
   "execution_count": null,
   "metadata": {},
   "outputs": [],
   "source": [
    "part_filepath = dataset_part_filepaths[0]\n",
    "part_filepath"
   ]
  },
  {
   "cell_type": "markdown",
   "metadata": {},
   "source": [
    "Below is the data format for the `ETL3`, `ETL4`, and `ETL5`.\n",
    "\n",
    "```\n",
    "/---[form_c.htm 2001-09.04]-------------------------------------------------------------------\n",
    "\n",
    "\n",
    "\t\t\t\tC-Type Data Format\t(ETL3, ETL4, ETL5)\n",
    "\n",
    "\n",
    "1. File Format (Fixed Record Length without Control Words)\n",
    "\n",
    "                   <----------> Logical record (2952 bytes) (1byte = 8bits)\n",
    "     ------------------------------------------------------------------\n",
    "     |  Sample 1  |  Sample 2  |  Sample 3  |    ....    |  Sample N  |  (No. of records = N)\n",
    "     ------------------------------------------------------------------\n",
    "\n",
    "\n",
    "2. Contents of Logical Record (3936 characters = 2952 bytes) (1character = 6bits)\n",
    "\n",
    " --------------------------------------------------------------------------------------------\n",
    "|             |No. of|        |                                                              |\n",
    "|   Character |Char- |  Type  |            Contents of Logical Record                        |\n",
    "|   Position  |acters|        |                                                              |\n",
    "|============================================================================================|\n",
    "|    1 -    6 |    6 | Integer| Serial Data Number                                           |\n",
    "|    7 -   12 |    6 | Integer| Serial Sheet Number                                          |\n",
    "|   13 -   18 |    6 | Binary | JIS Code (Effective bits = Left 8 bits) (JIS X 0201)         |\n",
    "|I  19 -   24 |    6 | Binary | EBCDIC Code (Effective bits = Left 8 bits)                   |\n",
    "|D  25 -   28 |    4 | T56Code| 4 Character Code ( ex. \"N  0\", \"A  A\", \"S  +\", \"K KA\" )      |\n",
    "|   29 -   30 |    2 | T56Code| Spaces                                                       |\n",
    "|P  31 -   36 |    6 | Integer| Evaluation of Individual Character Image (0=clean, 1, 2, 3)  |\n",
    "|a  37 -   42 |    6 | Integer| Evaluation of Character Group (0=clean, 1, 2)                |\n",
    "|r  43 -   48 |    6 | Integer| Sample Position Y on Sheet                                   |\n",
    "|t  49 -   54 |    6 | Integer| Sample Position X on Sheet                                   |\n",
    "|   55 -   60 |    6 | Integer| Male-Female Code ( 1=male, 2=female ) (JIS X 0303)           |\n",
    "|   61 -   66 |    6 | Integer| Age of Writer                                                |\n",
    "|   67 -   72 |    6 | Integer| Industry Classification Code (JIS X 0403)                    |\n",
    "|   73 -   78 |    6 | Integer| Occupation Classification Code (JIS X 0404)                  |\n",
    "|   79 -   84 |    6 | Integer| Sheet Gatherring Date                                        |\n",
    "|   85 -   90 |    6 | Integer| Scanning Date                                                |\n",
    "|   91 -   96 |    6 | Integer| Number of X-Axis Sampling Points                             |\n",
    "|   97 -  102 |    6 | Integer| Number of Y-Axis Sampling Points                             |\n",
    "|  103 -  108 |    6 | Integer| Number of Levels of Pixel                                    |\n",
    "|  109 -  114 |    6 | Integer| Magnification of Scanning Lenz                               |\n",
    "|  115 -  120 |    6 | Integer| Serial Data Number (old)                                     |\n",
    "|  121 -  288 |  168 |        | (undefined)                                                  |\n",
    "|-------------|------|--------|--------------------------------------------------------------|\n",
    "|  289 - 3936 | 3648 | Packed | 16 Gray Level (4bit/pixel) Image Data                        |\n",
    "|             |      |        | 72(X-axis size) * 76(Y-axis size) = 5472 pixels              |\n",
    " --------------------------------------------------------------------------------------------\n",
    "\n",
    "------------------------------------------------------------[form_c.htm]---------------------/\n",
    "```"
   ]
  },
  {
   "cell_type": "code",
   "execution_count": null,
   "metadata": {},
   "outputs": [],
   "source": [
    "infile = bitstring.ConstBitStream(filename=part_filepath)"
   ]
  },
  {
   "cell_type": "code",
   "execution_count": null,
   "metadata": {},
   "outputs": [],
   "source": [
    "bitstring_unpack_str = ','.join([\n",
    "    'uint:36', # serial data number - [0]\n",
    "    'uint:36', # serial sheet number - [1]\n",
    "    'uint:36', # JIS Code - [2]\n",
    "    'uint:36', # EBCDIC Code - [3]\n",
    "    '4*uint:6', # 4 Character Code - [4:8]\n",
    "    'pad:12', # Spaces\n",
    "    'uint:36', # Evaluation of Individual Character Image (0=clean, 1, 2, 3) - [8]\n",
    "    'uint:36', # Evaluation of Character Group (0=clean, 1, 2) - [9]\n",
    "    'uint:36', # Sample Position Y on Sheet - [10]\n",
    "    'uint:36', # Sample Position X on Sheet - [11]\n",
    "    'uint:36', # Male-Female Code (1=male, 2=female) (JIS X 0303) - [12]\n",
    "    'uint:36', # Age of Writer - [13]\n",
    "    'uint:36', # Industry Classification Code (JIS X 0403) - [14]\n",
    "    'uint:36', # Occupation Classification Code (JIS X 0404) - [15]\n",
    "    'uint:36', # Sheet Gathering Date - [16]\n",
    "    'uint:36', # Scanning Date - [17]\n",
    "    'uint:36', # Number of X-Axis Sampling Points - [18]\n",
    "    'uint:36', # Number of Y-Axis Sampling Points - [19]\n",
    "    'uint:36', # Number of Levels of Pixel - [20]\n",
    "    'uint:36', # Magnification of Scanning Lenz - [21]\n",
    "    'uint:36', # Serial Data Number (old) - [22]\n",
    "    'pad:1008', # (undefined)\n",
    "    'bytes:2736', # 16 Gray Level (4bit/pixel) Image Data 72(X-axis size) * 76(Y-axis size) = 5472 pixels - [23]\n",
    "])"
   ]
  },
  {
   "cell_type": "code",
   "execution_count": null,
   "metadata": {},
   "outputs": [],
   "source": [
    "RECORD_LENGTH = 6 * 3936 # in bits"
   ]
  },
  {
   "cell_type": "code",
   "execution_count": null,
   "metadata": {},
   "outputs": [],
   "source": [
    "skip = 0\n",
    "infile.pos = skip * RECORD_LENGTH\n",
    "record = infile.readlist(bitstring_unpack_str)"
   ]
  },
  {
   "cell_type": "code",
   "execution_count": null,
   "metadata": {},
   "outputs": [],
   "source": [
    "print(type(record), len(record))\n",
    "\n",
    "# skip the last image data as it is too large to print out\n",
    "for idx, v in enumerate(record[:-1]):\n",
    "    print(f'{idx} - {v}')"
   ]
  },
  {
   "cell_type": "code",
   "execution_count": null,
   "metadata": {},
   "outputs": [],
   "source": [
    "''.join(map(T56, record[4:8]))"
   ]
  },
  {
   "cell_type": "code",
   "execution_count": null,
   "metadata": {},
   "outputs": [],
   "source": [
    "record_dict = {\n",
    "    'character': ''.join(map(T56, record[4:8])), # 4 Character Code - [4:8]\n",
    "    'image_data': record[23], # 16 Gray Level (4bit/pixel) Image Data 72(X-axis size) * 76(Y-axis size) = 5472 pixels - [23]\n",
    "}"
   ]
  },
  {
   "cell_type": "code",
   "execution_count": null,
   "metadata": {},
   "outputs": [],
   "source": [
    "record_dict['character']"
   ]
  },
  {
   "cell_type": "code",
   "execution_count": null,
   "metadata": {},
   "outputs": [],
   "source": [
    "width = 72\n",
    "height = 76\n",
    "np_img = np.array(Image.frombytes('F', (width, height), record_dict['image_data'], 'bit', 4))\n",
    "\n",
    "plt.imshow(np_img)\n",
    "plt.colorbar()"
   ]
  },
  {
   "cell_type": "code",
   "execution_count": null,
   "metadata": {},
   "outputs": [],
   "source": [
    "total_samples = 0\n",
    "record_count = {}\n",
    "RECORD_LENGTH = 6 * 3660 # bits\n",
    "\n",
    "for filename in file_list:\n",
    "\n",
    "    file_stream = bitstring.ConstBitStream(filename=filename)\n",
    "\n",
    "    while True:\n",
    "        try:\n",
    "            record = file_stream.readlist(','.join([\n",
    "                'uint:36', # serial data number - [0]\n",
    "                'uint:36', # serial sheet number - [1]\n",
    "                'uint:36', # JIS Code - [2]\n",
    "                'uint:36', # EBCDIC Code - [3]\n",
    "                '4*uint:6', # 4 Character Code - [4:8]\n",
    "                'pad:12', # Spaces\n",
    "                'uint:36', # Evaluation of Individual Character Image (0=clean, 1, 2, 3) - [8]\n",
    "                'uint:36', # Evaluation of Character Group (0=clean, 1, 2) - [9]\n",
    "                'uint:36', # Sample Position Y on Sheet - [10]\n",
    "                'uint:36', # Sample Position X on Sheet - [11]\n",
    "                'uint:36', # Male-Female Code (1=male, 2=female) (JIS X 0303) - [12]\n",
    "                'uint:36', # Age of Writer - [13]\n",
    "                'uint:36', # Industry Classification Code (JIS X 0403) - [14]\n",
    "                'uint:36', # Occupation Classification Code (JIS X 0404) - [15]\n",
    "                'uint:36', # Sheet Gathering Date - [16]\n",
    "                'uint:36', # Scanning Date - [17]\n",
    "                'uint:36', # Number of X-Axis Sampling Points - [18]\n",
    "                'uint:36', # Number of Y-Axis Sampling Points - [19]\n",
    "                'uint:36', # Number of Levels of Pixel - [20]\n",
    "                'uint:36', # Magnification of Scanning Lenz - [21]\n",
    "                'uint:36', # Serial Data Number (old) - [22]\n",
    "                'pad:1008', # (undefined)\n",
    "                'bytes:2736', # 16 Gray Level (4bit/pixel) Image Data 72(X-axis size) * 76(Y-axis size) = 5472 pixels - [23]\n",
    "            ]))\n",
    "        except:\n",
    "            break\n",
    "        \n",
    "        total_samples += 1\n",
    "        \n",
    "        record_dict = {\n",
    "            'character': ''.join(map(T56, record[4:8])), # 4 Character Code - [4:8]\n",
    "            'image_data': record[23], # 16 Gray Level (4bit/pixel) Image Data 72(X-axis size) * 76(Y-axis size) = 5472 pixels - [23]\n",
    "        }\n",
    "\n",
    "#         name = record_dict['character'].strip()\n",
    "        name = record_dict['character']\n",
    "\n",
    "        if name in record_count.keys():\n",
    "            record_count[name] += 1\n",
    "        else:\n",
    "            record_count[name] = 1"
   ]
  },
  {
   "cell_type": "code",
   "execution_count": null,
   "metadata": {},
   "outputs": [],
   "source": [
    "total_samples"
   ]
  },
  {
   "cell_type": "code",
   "execution_count": null,
   "metadata": {},
   "outputs": [],
   "source": [
    "len(record_count.keys())"
   ]
  },
  {
   "cell_type": "code",
   "execution_count": null,
   "metadata": {},
   "outputs": [],
   "source": [
    "record_count"
   ]
  },
  {
   "cell_type": "code",
   "execution_count": null,
   "metadata": {},
   "outputs": [],
   "source": [
    "csv_filename = 'classes.tsv'\n",
    "with open(csv_filename, mode='w', encoding='utf-8') as f:\n",
    "    f.write('class\\tnum_samples\\n')\n",
    "    for k in record_count.keys():\n",
    "        log_str = f'{k}\\t{record_count[k]}\\n'\n",
    "        f.write(log_str)\n",
    "pd_df = pd.read_csv(csv_filename, encoding='utf-8', sep='\\t')\n",
    "pd_df = pd_df.sort_values(['class'])\n",
    "pd_df.to_csv(csv_filename, encoding='utf-8', index=False, sep='\\t')"
   ]
  }
 ],
 "metadata": {
  "kernelspec": {
   "display_name": "Python 3",
   "language": "python",
   "name": "python3"
  },
  "language_info": {
   "codemirror_mode": {
    "name": "ipython",
    "version": 3
   },
   "file_extension": ".py",
   "mimetype": "text/x-python",
   "name": "python",
   "nbconvert_exporter": "python",
   "pygments_lexer": "ipython3",
   "version": "3.7.6"
  }
 },
 "nbformat": 4,
 "nbformat_minor": 2
}
